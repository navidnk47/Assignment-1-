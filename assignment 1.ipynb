{
 "cells": [
  {
   "cell_type": "code",
   "execution_count": null,
   "id": "d3cacefd-f08d-4a75-b5b6-0f8e5a9cc686",
   "metadata": {},
   "outputs": [],
   "source": [
    "Q1)"
   ]
  },
  {
   "cell_type": "code",
   "execution_count": 5,
   "id": "062b227c-b9f5-4fee-b66a-e4dc7ff9aeec",
   "metadata": {},
   "outputs": [],
   "source": [
    "a='navid'"
   ]
  },
  {
   "cell_type": "code",
   "execution_count": 6,
   "id": "c42aee6e-46e0-469f-ab6b-5e64c745f55a",
   "metadata": {},
   "outputs": [
    {
     "data": {
      "text/plain": [
       "str"
      ]
     },
     "execution_count": 6,
     "metadata": {},
     "output_type": "execute_result"
    }
   ],
   "source": [
    "type(a)"
   ]
  },
  {
   "cell_type": "code",
   "execution_count": 7,
   "id": "7bb697f3-d125-4ceb-9569-92bdf05baded",
   "metadata": {},
   "outputs": [],
   "source": [
    "l=[2,3,4,5,6,\"navid\", \"pw skills\",34.45,True]"
   ]
  },
  {
   "cell_type": "code",
   "execution_count": 8,
   "id": "61b602d1-1c75-4975-adc7-5cc9eba0743a",
   "metadata": {},
   "outputs": [
    {
     "data": {
      "text/plain": [
       "list"
      ]
     },
     "execution_count": 8,
     "metadata": {},
     "output_type": "execute_result"
    }
   ],
   "source": [
    "type(l)"
   ]
  },
  {
   "cell_type": "code",
   "execution_count": 9,
   "id": "6b6a3121-679c-4969-88dd-f88f16729ae3",
   "metadata": {},
   "outputs": [],
   "source": [
    "b = 34.23"
   ]
  },
  {
   "cell_type": "code",
   "execution_count": 11,
   "id": "4fe76422-e9e5-4bd1-8828-80c5656ea2bf",
   "metadata": {},
   "outputs": [
    {
     "data": {
      "text/plain": [
       "float"
      ]
     },
     "execution_count": 11,
     "metadata": {},
     "output_type": "execute_result"
    }
   ],
   "source": [
    "type(b)"
   ]
  },
  {
   "cell_type": "code",
   "execution_count": null,
   "id": "64e74d5f-a364-4ba5-b5e3-f1382463f590",
   "metadata": {},
   "outputs": [],
   "source": []
  },
  {
   "cell_type": "code",
   "execution_count": null,
   "id": "403c181e-c3a5-41bd-9743-b0d4a14c0605",
   "metadata": {},
   "outputs": [],
   "source": []
  },
  {
   "cell_type": "code",
   "execution_count": null,
   "id": "f94cb08d-9d5b-4396-8dd6-29a7be707d4f",
   "metadata": {},
   "outputs": [],
   "source": [
    "Q2"
   ]
  },
  {
   "cell_type": "code",
   "execution_count": 16,
   "id": "4d16709d-cdae-48cf-81cf-113691e28d11",
   "metadata": {},
   "outputs": [],
   "source": [
    "var3=['DS', 'ML', 'PYTHON']"
   ]
  },
  {
   "cell_type": "code",
   "execution_count": 17,
   "id": "18097927-a387-46a4-a2e8-6c3a9c363c85",
   "metadata": {},
   "outputs": [
    {
     "data": {
      "text/plain": [
       "list"
      ]
     },
     "execution_count": 17,
     "metadata": {},
     "output_type": "execute_result"
    }
   ],
   "source": [
    "type(var3)"
   ]
  },
  {
   "cell_type": "code",
   "execution_count": 15,
   "id": "b270f93b-89cc-49cf-8929-2428b8d87d3a",
   "metadata": {},
   "outputs": [
    {
     "data": {
      "text/plain": [
       "['DS', 'ML', 'PYTHON']"
      ]
     },
     "execution_count": 15,
     "metadata": {},
     "output_type": "execute_result"
    }
   ],
   "source": [
    "var3"
   ]
  },
  {
   "cell_type": "code",
   "execution_count": 11,
   "id": "d44a48f8-3155-4f9e-ab68-9650d590e544",
   "metadata": {},
   "outputs": [],
   "source": [
    "var4 = 1."
   ]
  },
  {
   "cell_type": "code",
   "execution_count": 12,
   "id": "63159f14-39f4-43d7-be6f-198675b769f9",
   "metadata": {},
   "outputs": [
    {
     "data": {
      "text/plain": [
       "1.0"
      ]
     },
     "execution_count": 12,
     "metadata": {},
     "output_type": "execute_result"
    }
   ],
   "source": [
    "var4"
   ]
  },
  {
   "cell_type": "code",
   "execution_count": 13,
   "id": "733dc170-6b8c-44b5-9150-198cfd31dce2",
   "metadata": {},
   "outputs": [
    {
     "data": {
      "text/plain": [
       "float"
      ]
     },
     "execution_count": 13,
     "metadata": {},
     "output_type": "execute_result"
    }
   ],
   "source": [
    "type(var4)"
   ]
  },
  {
   "cell_type": "code",
   "execution_count": null,
   "id": "92ea2980-a1e5-468c-82b4-11b3b00dd969",
   "metadata": {},
   "outputs": [],
   "source": []
  },
  {
   "cell_type": "code",
   "execution_count": null,
   "id": "8fa0f08f-bd54-40eb-b613-5d786ac94304",
   "metadata": {},
   "outputs": [],
   "source": [
    "Q3)"
   ]
  },
  {
   "cell_type": "code",
   "execution_count": 18,
   "id": "187b8197-435b-42ed-b649-04f5e1e866ba",
   "metadata": {},
   "outputs": [
    {
     "data": {
      "text/plain": [
       "0.5"
      ]
     },
     "execution_count": 18,
     "metadata": {},
     "output_type": "execute_result"
    }
   ],
   "source": [
    "2/4"
   ]
  },
  {
   "cell_type": "code",
   "execution_count": null,
   "id": "837f5015-227f-4b0e-957c-5a38d6afaf07",
   "metadata": {},
   "outputs": [],
   "source": []
  },
  {
   "cell_type": "code",
   "execution_count": 19,
   "id": "298b007c-0c36-4814-b16b-e25f391df616",
   "metadata": {},
   "outputs": [
    {
     "data": {
      "text/plain": [
       "2"
      ]
     },
     "execution_count": 19,
     "metadata": {},
     "output_type": "execute_result"
    }
   ],
   "source": [
    "5%3"
   ]
  },
  {
   "cell_type": "code",
   "execution_count": 20,
   "id": "50248e6e-5344-47ff-b1bf-769870fcda56",
   "metadata": {},
   "outputs": [
    {
     "data": {
      "text/plain": [
       "3"
      ]
     },
     "execution_count": 20,
     "metadata": {},
     "output_type": "execute_result"
    }
   ],
   "source": [
    "6//2"
   ]
  },
  {
   "cell_type": "code",
   "execution_count": 21,
   "id": "26bd775e-6c0a-44a0-84a7-a76905cd9b04",
   "metadata": {},
   "outputs": [
    {
     "data": {
      "text/plain": [
       "512"
      ]
     },
     "execution_count": 21,
     "metadata": {},
     "output_type": "execute_result"
    }
   ],
   "source": [
    "8**3"
   ]
  },
  {
   "cell_type": "code",
   "execution_count": null,
   "id": "6de4ba64-42e7-4ec3-b80e-c79765b8cac4",
   "metadata": {},
   "outputs": [],
   "source": []
  },
  {
   "cell_type": "code",
   "execution_count": null,
   "id": "228738f0-273e-4959-a3de-347782ff2c92",
   "metadata": {},
   "outputs": [],
   "source": [
    "Q4)"
   ]
  },
  {
   "cell_type": "code",
   "execution_count": 23,
   "id": "a553e426-effa-45ab-a1fd-31e842b013d2",
   "metadata": {},
   "outputs": [
    {
     "name": "stdout",
     "output_type": "stream",
     "text": [
      "<class 'int'>\n",
      "<class 'int'>\n",
      "<class 'int'>\n",
      "<class 'int'>\n",
      "<class 'int'>\n",
      "<class 'int'>\n",
      "<class 'str'>\n",
      "<class 'str'>\n",
      "<class 'float'>\n",
      "<class 'bool'>\n"
     ]
    }
   ],
   "source": [
    "l = [2,3,4,5,6,7,\"navid\" , \"science\" , 23.45, True]\n",
    "for i in l :\n",
    "     print(type(i))"
   ]
  },
  {
   "cell_type": "code",
   "execution_count": null,
   "id": "4e238eef-95f5-4be2-b1d5-29d593e27cb0",
   "metadata": {},
   "outputs": [],
   "source": []
  },
  {
   "cell_type": "code",
   "execution_count": null,
   "id": "13924162-9dd4-476b-a483-5f135b8ed1d1",
   "metadata": {},
   "outputs": [],
   "source": [
    "Q5)"
   ]
  },
  {
   "cell_type": "code",
   "execution_count": 1,
   "id": "923d6d60",
   "metadata": {},
   "outputs": [
    {
     "name": "stdout",
     "output_type": "stream",
     "text": [
      "15.0 is purely divisible by 2 and can be divided 2 times.\n"
     ]
    }
   ],
   "source": [
    "a=60\n",
    "b=2\n",
    "\n",
    "n = 0\n",
    "while a%b ==0:\n",
    "    a/=b\n",
    "    n+=1\n",
    "if n > 0:\n",
    "    print(f\"{a} is purely divisible by {b} and can be divided {n} times.\")\n",
    "else:\n",
    "    print(f\"{a}is not puerly divisible by {b} .\")"
   ]
  },
  {
   "cell_type": "code",
   "execution_count": null,
   "id": "c0fd7b61-304a-4dd7-a4a2-f54ad063fcd3",
   "metadata": {},
   "outputs": [],
   "source": []
  },
  {
   "cell_type": "code",
   "execution_count": null,
   "id": "4a9e2469-c098-40e0-b1c6-b5831d355f29",
   "metadata": {},
   "outputs": [],
   "source": [
    "Q6)"
   ]
  },
  {
   "cell_type": "code",
   "execution_count": 6,
   "id": "d4e7e232-7925-41f1-84a3-78591d195d60",
   "metadata": {},
   "outputs": [
    {
     "name": "stdout",
     "output_type": "stream",
     "text": [
      "[0]\n",
      "[0, 0]\n",
      "[0, 0, 3]\n",
      "[0, 0, 3, 0]\n",
      "[0, 0, 3, 0, 0]\n",
      "[0, 0, 3, 0, 0, 6]\n",
      "[0, 0, 3, 0, 0, 6, 0]\n",
      "[0, 0, 3, 0, 0, 6, 0, 0]\n",
      "[0, 0, 3, 0, 0, 6, 0, 0, 9]\n",
      "[0, 0, 3, 0, 0, 6, 0, 0, 9, 0]\n",
      "[0, 0, 3, 0, 0, 6, 0, 0, 9, 0, 0]\n",
      "[0, 0, 3, 0, 0, 6, 0, 0, 9, 0, 0, 12]\n",
      "[0, 0, 3, 0, 0, 6, 0, 0, 9, 0, 0, 12, 0]\n",
      "[0, 0, 3, 0, 0, 6, 0, 0, 9, 0, 0, 12, 0, 0]\n",
      "[0, 0, 3, 0, 0, 6, 0, 0, 9, 0, 0, 12, 0, 0, 15]\n",
      "[0, 0, 3, 0, 0, 6, 0, 0, 9, 0, 0, 12, 0, 0, 15, 0]\n",
      "[0, 0, 3, 0, 0, 6, 0, 0, 9, 0, 0, 12, 0, 0, 15, 0, 0]\n",
      "[0, 0, 3, 0, 0, 6, 0, 0, 9, 0, 0, 12, 0, 0, 15, 0, 0, 18]\n",
      "[0, 0, 3, 0, 0, 6, 0, 0, 9, 0, 0, 12, 0, 0, 15, 0, 0, 18, 0]\n",
      "[0, 0, 3, 0, 0, 6, 0, 0, 9, 0, 0, 12, 0, 0, 15, 0, 0, 18, 0, 0]\n",
      "[0, 0, 3, 0, 0, 6, 0, 0, 9, 0, 0, 12, 0, 0, 15, 0, 0, 18, 0, 0, 21]\n",
      "[0, 0, 3, 0, 0, 6, 0, 0, 9, 0, 0, 12, 0, 0, 15, 0, 0, 18, 0, 0, 21, 0]\n",
      "[0, 0, 3, 0, 0, 6, 0, 0, 9, 0, 0, 12, 0, 0, 15, 0, 0, 18, 0, 0, 21, 0, 0]\n",
      "[0, 0, 3, 0, 0, 6, 0, 0, 9, 0, 0, 12, 0, 0, 15, 0, 0, 18, 0, 0, 21, 0, 0, 24]\n"
     ]
    }
   ],
   "source": [
    "result_list =[]\n",
    "\n",
    "for i in range(1,25):\n",
    "    if i % 3 == 0:\n",
    "       result_list.append(i)\n",
    "    else: \n",
    "        result_list.append(0)\n",
    "        \n",
    "    print(result_list)\n",
    "        "
   ]
  },
  {
   "cell_type": "code",
   "execution_count": null,
   "id": "19c4eafc-9c72-45cf-80bb-bd96d3013a97",
   "metadata": {},
   "outputs": [],
   "source": []
  },
  {
   "cell_type": "code",
   "execution_count": null,
   "id": "7d017894-7cdb-4f63-ac5a-d84419b77dff",
   "metadata": {},
   "outputs": [],
   "source": [
    "Q7)"
   ]
  },
  {
   "cell_type": "code",
   "execution_count": 7,
   "id": "ecd4d7e5-bdb7-4db4-b72e-8cbd185741cb",
   "metadata": {},
   "outputs": [],
   "source": [
    " l=[2,3,4,5,6,\"sudh\",3+7j,True,34.56]"
   ]
  },
  {
   "cell_type": "code",
   "execution_count": 9,
   "id": "0e7b90f2-6d60-4d04-a0c4-283a8dc08087",
   "metadata": {},
   "outputs": [],
   "source": [
    "l[5]=\"navid\""
   ]
  },
  {
   "cell_type": "code",
   "execution_count": 10,
   "id": "1adaf0ea-fc8a-46fe-a1d7-48c50330a578",
   "metadata": {},
   "outputs": [
    {
     "data": {
      "text/plain": [
       "[2, 3, 4, 5, 6, 'navid', (3+7j), True, 34.56]"
      ]
     },
     "execution_count": 10,
     "metadata": {},
     "output_type": "execute_result"
    }
   ],
   "source": [
    "l"
   ]
  },
  {
   "cell_type": "code",
   "execution_count": null,
   "id": "c66a1fbf-e63d-4ca6-a8cb-417ded6201b1",
   "metadata": {},
   "outputs": [],
   "source": [
    "data that reasine in list is called mutable object ."
   ]
  },
  {
   "cell_type": "code",
   "execution_count": null,
   "id": "936c0111-5d18-4e6f-8248-ac20da830648",
   "metadata": {},
   "outputs": [],
   "source": []
  },
  {
   "cell_type": "code",
   "execution_count": 11,
   "id": "e6889653-477d-4590-9b2b-39c44a1e09dc",
   "metadata": {},
   "outputs": [],
   "source": [
    "a=\"navid\""
   ]
  },
  {
   "cell_type": "code",
   "execution_count": 15,
   "id": "fa875291-1b18-4796-8b8b-e54b26aa6cf3",
   "metadata": {},
   "outputs": [
    {
     "ename": "TypeError",
     "evalue": "'str' object does not support item assignment",
     "output_type": "error",
     "traceback": [
      "\u001b[0;31m---------------------------------------------------------------------------\u001b[0m",
      "\u001b[0;31mTypeError\u001b[0m                                 Traceback (most recent call last)",
      "Cell \u001b[0;32mIn[15], line 1\u001b[0m\n\u001b[0;32m----> 1\u001b[0m \u001b[43ma\u001b[49m\u001b[43m[\u001b[49m\u001b[38;5;241;43m1\u001b[39;49m\u001b[43m]\u001b[49m\u001b[38;5;241m=\u001b[39m\u001b[38;5;124m\"\u001b[39m\u001b[38;5;124mkhan\u001b[39m\u001b[38;5;124m\"\u001b[39m\n",
      "\u001b[0;31mTypeError\u001b[0m: 'str' object does not support item assignment"
     ]
    }
   ],
   "source": [
    "a[1]=\"khan\""
   ]
  },
  {
   "cell_type": "code",
   "execution_count": 16,
   "id": "cdd464d9-5963-42ff-8406-1143ab528034",
   "metadata": {},
   "outputs": [
    {
     "data": {
      "text/plain": [
       "str"
      ]
     },
     "execution_count": 16,
     "metadata": {},
     "output_type": "execute_result"
    }
   ],
   "source": [
    "type(a)"
   ]
  },
  {
   "cell_type": "code",
   "execution_count": null,
   "id": "0b8d164f-1ea5-4124-8261-762e421116e8",
   "metadata": {},
   "outputs": [],
   "source": [
    "in string the data does nt change or reasign is called imutable."
   ]
  }
 ],
 "metadata": {
  "kernelspec": {
   "display_name": "Python 3 (ipykernel)",
   "language": "python",
   "name": "python3"
  },
  "language_info": {
   "codemirror_mode": {
    "name": "ipython",
    "version": 3
   },
   "file_extension": ".py",
   "mimetype": "text/x-python",
   "name": "python",
   "nbconvert_exporter": "python",
   "pygments_lexer": "ipython3",
   "version": "3.10.8"
  }
 },
 "nbformat": 4,
 "nbformat_minor": 5
}
